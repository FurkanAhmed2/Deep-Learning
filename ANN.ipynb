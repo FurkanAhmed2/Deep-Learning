{
 "cells": [
  {
   "cell_type": "markdown",
   "metadata": {
    "colab_type": "text",
    "id": "lP6JLo1tGNBg"
   },
   "source": [
    "# Artificial Neural Network"
   ]
  },
  {
   "cell_type": "markdown",
   "metadata": {
    "colab_type": "text",
    "id": "gWZyYmS_UE_L"
   },
   "source": [
    "### Importing the libraries"
   ]
  },
  {
   "cell_type": "code",
   "execution_count": 23,
   "metadata": {
    "colab": {},
    "colab_type": "code",
    "id": "lJc1VW1O7kxB"
   },
   "outputs": [],
   "source": [
    "import numpy as np\n",
    "import pandas as pd\n",
    "import tensorflow as tf"
   ]
  },
  {
   "cell_type": "code",
   "execution_count": 24,
   "metadata": {
    "colab": {
     "base_uri": "https://localhost:8080/",
     "height": 36
    },
    "colab_type": "code",
    "id": "LIuIAj6rQRtm",
    "outputId": "26a89e36-7a0f-4caf-feee-6282d6250835"
   },
   "outputs": [
    {
     "data": {
      "application/vnd.google.colaboratory.intrinsic+json": {
       "type": "string"
      },
      "text/plain": [
       "'2.3.0'"
      ]
     },
     "execution_count": 24,
     "metadata": {
      "tags": []
     },
     "output_type": "execute_result"
    }
   ],
   "source": [
    "tf.__version__\n"
   ]
  },
  {
   "cell_type": "markdown",
   "metadata": {
    "colab_type": "text",
    "id": "1E0Q3aoKUCRX"
   },
   "source": [
    "## Part 1 - Data Preprocessing"
   ]
  },
  {
   "cell_type": "markdown",
   "metadata": {
    "colab_type": "text",
    "id": "cKWAkFVGUU0Z"
   },
   "source": [
    "### Importing the dataset"
   ]
  },
  {
   "cell_type": "code",
   "execution_count": 25,
   "metadata": {
    "colab": {},
    "colab_type": "code",
    "id": "6hwM41Y6Qoo8"
   },
   "outputs": [],
   "source": [
    "dataset=pd.read_csv(\"Churn_Modelling.csv\")\n",
    "X=dataset.iloc[:,3:-1].values\n",
    "y=dataset.iloc[:,-1].values"
   ]
  },
  {
   "cell_type": "code",
   "execution_count": 26,
   "metadata": {
    "colab": {
     "base_uri": "https://localhost:8080/",
     "height": 146
    },
    "colab_type": "code",
    "id": "eyKOwo4CR5wJ",
    "outputId": "a636d7f5-b008-4810-b853-145dc5837239"
   },
   "outputs": [
    {
     "name": "stdout",
     "output_type": "stream",
     "text": [
      "[[619 'France' 'Female' ... 1 1 101348.88]\n",
      " [608 'Spain' 'Female' ... 0 1 112542.58]\n",
      " [502 'France' 'Female' ... 1 0 113931.57]\n",
      " ...\n",
      " [709 'France' 'Female' ... 0 1 42085.58]\n",
      " [772 'Germany' 'Male' ... 1 0 92888.52]\n",
      " [792 'France' 'Female' ... 1 0 38190.78]]\n"
     ]
    }
   ],
   "source": [
    "print(X)"
   ]
  },
  {
   "cell_type": "code",
   "execution_count": 27,
   "metadata": {
    "colab": {
     "base_uri": "https://localhost:8080/",
     "height": 35
    },
    "colab_type": "code",
    "id": "WLdvetW2R-qz",
    "outputId": "3b1a0d9d-e45e-48b1-d494-4b654ba0a0d3"
   },
   "outputs": [
    {
     "name": "stdout",
     "output_type": "stream",
     "text": [
      "[1 0 1 ... 1 1 0]\n"
     ]
    }
   ],
   "source": [
    "print(y)"
   ]
  },
  {
   "cell_type": "markdown",
   "metadata": {
    "colab_type": "text",
    "id": "N6bQ0UgSU-NJ"
   },
   "source": [
    "### Encoding categorical data"
   ]
  },
  {
   "cell_type": "markdown",
   "metadata": {
    "colab_type": "text",
    "id": "le5MJreAbW52"
   },
   "source": [
    "Label Encoding the \"Gender\" column"
   ]
  },
  {
   "cell_type": "code",
   "execution_count": 28,
   "metadata": {
    "colab": {},
    "colab_type": "code",
    "id": "iavZKoXqUQkh"
   },
   "outputs": [],
   "source": [
    "from sklearn.preprocessing import LabelEncoder\n",
    "le = LabelEncoder()\n",
    "X[:, 2] = le.fit_transform(X[:, 2])"
   ]
  },
  {
   "cell_type": "code",
   "execution_count": 29,
   "metadata": {
    "colab": {
     "base_uri": "https://localhost:8080/",
     "height": 146
    },
    "colab_type": "code",
    "id": "8iHX8n8yUWxo",
    "outputId": "cb61e8ea-b9fb-4ea7-cf42-b61a72d01065"
   },
   "outputs": [
    {
     "name": "stdout",
     "output_type": "stream",
     "text": [
      "[[619 'France' 0 ... 1 1 101348.88]\n",
      " [608 'Spain' 0 ... 0 1 112542.58]\n",
      " [502 'France' 0 ... 1 0 113931.57]\n",
      " ...\n",
      " [709 'France' 0 ... 0 1 42085.58]\n",
      " [772 'Germany' 1 ... 1 0 92888.52]\n",
      " [792 'France' 0 ... 1 0 38190.78]]\n"
     ]
    }
   ],
   "source": [
    "print(X)"
   ]
  },
  {
   "cell_type": "markdown",
   "metadata": {
    "colab_type": "text",
    "id": "CUxGZezpbMcb"
   },
   "source": [
    "One Hot Encoding the \"Geography\" column"
   ]
  },
  {
   "cell_type": "code",
   "execution_count": 30,
   "metadata": {
    "colab": {},
    "colab_type": "code",
    "id": "PocoPS5kWeeA"
   },
   "outputs": [],
   "source": [
    "from sklearn.compose import ColumnTransformer\n",
    "from sklearn.preprocessing import OneHotEncoder\n",
    "ct = ColumnTransformer(transformers=[('encoder', OneHotEncoder(), [1])], remainder='passthrough')\n",
    "X = np.array(ct.fit_transform(X))"
   ]
  },
  {
   "cell_type": "code",
   "execution_count": 31,
   "metadata": {
    "colab": {
     "base_uri": "https://localhost:8080/",
     "height": 146
    },
    "colab_type": "code",
    "id": "3PD7z4RYXWjw",
    "outputId": "ee4b0bc8-35d0-4f29-848d-4f05b819d76a"
   },
   "outputs": [
    {
     "name": "stdout",
     "output_type": "stream",
     "text": [
      "[[1.0 0.0 0.0 ... 1 1 101348.88]\n",
      " [0.0 0.0 1.0 ... 0 1 112542.58]\n",
      " [1.0 0.0 0.0 ... 1 0 113931.57]\n",
      " ...\n",
      " [1.0 0.0 0.0 ... 0 1 42085.58]\n",
      " [0.0 1.0 0.0 ... 1 0 92888.52]\n",
      " [1.0 0.0 0.0 ... 1 0 38190.78]]\n"
     ]
    }
   ],
   "source": [
    "print(X)"
   ]
  },
  {
   "cell_type": "markdown",
   "metadata": {
    "colab_type": "text",
    "id": "vHol938cW8zd"
   },
   "source": [
    "### Splitting the dataset into the Training set and Test set"
   ]
  },
  {
   "cell_type": "code",
   "execution_count": 32,
   "metadata": {
    "colab": {},
    "colab_type": "code",
    "id": "ZQzn38dOXp8j"
   },
   "outputs": [],
   "source": [
    "from sklearn.model_selection import train_test_split\n",
    "X_train, X_test, y_train, y_test = train_test_split(X, y, test_size = 0.2, random_state = 1)"
   ]
  },
  {
   "cell_type": "markdown",
   "metadata": {
    "colab_type": "text",
    "id": "RE_FcHyfV3TQ"
   },
   "source": [
    "### Feature Scaling"
   ]
  },
  {
   "cell_type": "code",
   "execution_count": 33,
   "metadata": {
    "colab": {},
    "colab_type": "code",
    "id": "y6qI4SBOX0hy"
   },
   "outputs": [],
   "source": [
    "from sklearn.preprocessing import StandardScaler\n",
    "sc = StandardScaler()\n",
    "X_train= sc.fit_transform(X_train)\n",
    "X_test = sc.transform(X_test)"
   ]
  },
  {
   "cell_type": "markdown",
   "metadata": {
    "colab_type": "text",
    "id": "-zfEzkRVXIwF"
   },
   "source": [
    "## Part 2 - Building the ANN"
   ]
  },
  {
   "cell_type": "markdown",
   "metadata": {
    "colab_type": "text",
    "id": "KvdeScabXtlB"
   },
   "source": [
    "### Initializing the ANN"
   ]
  },
  {
   "cell_type": "code",
   "execution_count": 34,
   "metadata": {
    "colab": {},
    "colab_type": "code",
    "id": "ZinBF8SUYXfZ"
   },
   "outputs": [],
   "source": [
    "ann = tf.keras.models.Sequential()"
   ]
  },
  {
   "cell_type": "markdown",
   "metadata": {
    "colab_type": "text",
    "id": "rP6urV6SX7kS"
   },
   "source": [
    "### Adding the input layer and the first hidden layer"
   ]
  },
  {
   "cell_type": "code",
   "execution_count": 35,
   "metadata": {
    "colab": {},
    "colab_type": "code",
    "id": "oeLXfklEYYSZ"
   },
   "outputs": [],
   "source": [
    "ann.add(tf.keras.layers.Dense(units=6, activation='relu'))"
   ]
  },
  {
   "cell_type": "markdown",
   "metadata": {
    "colab_type": "text",
    "id": "BELWAc_8YJze"
   },
   "source": [
    "### Adding the second hidden layer"
   ]
  },
  {
   "cell_type": "code",
   "execution_count": 36,
   "metadata": {
    "colab": {},
    "colab_type": "code",
    "id": "PBEkc1m6YZO7"
   },
   "outputs": [],
   "source": [
    "ann.add(tf.keras.layers.Dense(units=6, activation='relu'))"
   ]
  },
  {
   "cell_type": "markdown",
   "metadata": {
    "colab_type": "text",
    "id": "OyNEe6RXYcU4"
   },
   "source": [
    "### Adding the output layer"
   ]
  },
  {
   "cell_type": "code",
   "execution_count": 37,
   "metadata": {
    "colab": {},
    "colab_type": "code",
    "id": "Ng5YdGX4Ya6L"
   },
   "outputs": [],
   "source": [
    "ann.add(tf.keras.layers.Dense(units=1, activation='sigmoid'))"
   ]
  },
  {
   "cell_type": "markdown",
   "metadata": {
    "colab_type": "text",
    "id": "JT4u2S1_Y4WG"
   },
   "source": [
    "## Part 3 - Training the ANN"
   ]
  },
  {
   "cell_type": "markdown",
   "metadata": {
    "colab_type": "text",
    "id": "8GWlJChhY_ZI"
   },
   "source": [
    "### Compiling the ANN"
   ]
  },
  {
   "cell_type": "code",
   "execution_count": 38,
   "metadata": {
    "colab": {},
    "colab_type": "code",
    "id": "Gp0e82D1EMSS"
   },
   "outputs": [],
   "source": [
    "ann.compile(optimizer = 'adam', loss = 'binary_crossentropy', metrics = ['accuracy'])"
   ]
  },
  {
   "cell_type": "markdown",
   "metadata": {
    "colab_type": "text",
    "id": "0QR_G5u7ZLSM"
   },
   "source": [
    "### Training the ANN on the Training set"
   ]
  },
  {
   "cell_type": "code",
   "execution_count": 39,
   "metadata": {
    "colab": {
     "base_uri": "https://localhost:8080/",
     "height": 1000
    },
    "colab_type": "code",
    "id": "oi0QH6tgrWIN",
    "outputId": "2f6d6847-4eb0-4fee-97bb-c505b559a874"
   },
   "outputs": [
    {
     "name": "stdout",
     "output_type": "stream",
     "text": [
      "Epoch 1/100\n",
      "250/250 [==============================] - 0s 812us/step - loss: 0.5063 - accuracy: 0.7972\n",
      "Epoch 2/100\n",
      "250/250 [==============================] - 0s 889us/step - loss: 0.4716 - accuracy: 0.7972\n",
      "Epoch 3/100\n",
      "250/250 [==============================] - 0s 846us/step - loss: 0.4549 - accuracy: 0.7972\n",
      "Epoch 4/100\n",
      "250/250 [==============================] - 0s 823us/step - loss: 0.4445 - accuracy: 0.7972\n",
      "Epoch 5/100\n",
      "250/250 [==============================] - 0s 860us/step - loss: 0.4369 - accuracy: 0.7972\n",
      "Epoch 6/100\n",
      "250/250 [==============================] - 0s 837us/step - loss: 0.4310 - accuracy: 0.8034\n",
      "Epoch 7/100\n",
      "250/250 [==============================] - 0s 817us/step - loss: 0.4266 - accuracy: 0.8127\n",
      "Epoch 8/100\n",
      "250/250 [==============================] - 0s 787us/step - loss: 0.4229 - accuracy: 0.8151\n",
      "Epoch 9/100\n",
      "250/250 [==============================] - 0s 798us/step - loss: 0.4197 - accuracy: 0.8179\n",
      "Epoch 10/100\n",
      "250/250 [==============================] - 0s 838us/step - loss: 0.4174 - accuracy: 0.8221\n",
      "Epoch 11/100\n",
      "250/250 [==============================] - 0s 880us/step - loss: 0.4154 - accuracy: 0.8240\n",
      "Epoch 12/100\n",
      "250/250 [==============================] - 0s 834us/step - loss: 0.4135 - accuracy: 0.8263\n",
      "Epoch 13/100\n",
      "250/250 [==============================] - 0s 779us/step - loss: 0.4123 - accuracy: 0.8299\n",
      "Epoch 14/100\n",
      "250/250 [==============================] - 0s 809us/step - loss: 0.4108 - accuracy: 0.8304\n",
      "Epoch 15/100\n",
      "250/250 [==============================] - 0s 811us/step - loss: 0.4094 - accuracy: 0.8314\n",
      "Epoch 16/100\n",
      "250/250 [==============================] - 0s 871us/step - loss: 0.4081 - accuracy: 0.8317\n",
      "Epoch 17/100\n",
      "250/250 [==============================] - 0s 850us/step - loss: 0.4072 - accuracy: 0.8331\n",
      "Epoch 18/100\n",
      "250/250 [==============================] - 0s 783us/step - loss: 0.4064 - accuracy: 0.8344\n",
      "Epoch 19/100\n",
      "250/250 [==============================] - 0s 784us/step - loss: 0.4054 - accuracy: 0.8350\n",
      "Epoch 20/100\n",
      "250/250 [==============================] - 0s 859us/step - loss: 0.4047 - accuracy: 0.8364\n",
      "Epoch 21/100\n",
      "250/250 [==============================] - 0s 810us/step - loss: 0.4037 - accuracy: 0.8365\n",
      "Epoch 22/100\n",
      "250/250 [==============================] - 0s 797us/step - loss: 0.4035 - accuracy: 0.8374\n",
      "Epoch 23/100\n",
      "250/250 [==============================] - 0s 798us/step - loss: 0.4027 - accuracy: 0.8365\n",
      "Epoch 24/100\n",
      "250/250 [==============================] - 0s 786us/step - loss: 0.4021 - accuracy: 0.8369\n",
      "Epoch 25/100\n",
      "250/250 [==============================] - 0s 821us/step - loss: 0.4013 - accuracy: 0.8375\n",
      "Epoch 26/100\n",
      "250/250 [==============================] - 0s 826us/step - loss: 0.4016 - accuracy: 0.8374\n",
      "Epoch 27/100\n",
      "250/250 [==============================] - 0s 908us/step - loss: 0.4007 - accuracy: 0.8385\n",
      "Epoch 28/100\n",
      "250/250 [==============================] - 0s 900us/step - loss: 0.4005 - accuracy: 0.8382\n",
      "Epoch 29/100\n",
      "250/250 [==============================] - 0s 883us/step - loss: 0.4000 - accuracy: 0.8400\n",
      "Epoch 30/100\n",
      "250/250 [==============================] - 0s 782us/step - loss: 0.3997 - accuracy: 0.8384\n",
      "Epoch 31/100\n",
      "250/250 [==============================] - 0s 1ms/step - loss: 0.3997 - accuracy: 0.8395\n",
      "Epoch 32/100\n",
      "250/250 [==============================] - 0s 887us/step - loss: 0.3990 - accuracy: 0.8396\n",
      "Epoch 33/100\n",
      "250/250 [==============================] - 0s 827us/step - loss: 0.3991 - accuracy: 0.8390\n",
      "Epoch 34/100\n",
      "250/250 [==============================] - 0s 791us/step - loss: 0.3989 - accuracy: 0.8393\n",
      "Epoch 35/100\n",
      "250/250 [==============================] - 0s 842us/step - loss: 0.3985 - accuracy: 0.8381\n",
      "Epoch 36/100\n",
      "250/250 [==============================] - 0s 824us/step - loss: 0.3981 - accuracy: 0.8394\n",
      "Epoch 37/100\n",
      "250/250 [==============================] - 0s 888us/step - loss: 0.3981 - accuracy: 0.8385\n",
      "Epoch 38/100\n",
      "250/250 [==============================] - 0s 830us/step - loss: 0.3975 - accuracy: 0.8389\n",
      "Epoch 39/100\n",
      "250/250 [==============================] - 0s 829us/step - loss: 0.3976 - accuracy: 0.8395\n",
      "Epoch 40/100\n",
      "250/250 [==============================] - 0s 862us/step - loss: 0.3972 - accuracy: 0.8396\n",
      "Epoch 41/100\n",
      "250/250 [==============================] - 0s 830us/step - loss: 0.3972 - accuracy: 0.8382\n",
      "Epoch 42/100\n",
      "250/250 [==============================] - 0s 834us/step - loss: 0.3967 - accuracy: 0.8396\n",
      "Epoch 43/100\n",
      "250/250 [==============================] - 0s 805us/step - loss: 0.3965 - accuracy: 0.8391\n",
      "Epoch 44/100\n",
      "250/250 [==============================] - 0s 838us/step - loss: 0.3963 - accuracy: 0.8394\n",
      "Epoch 45/100\n",
      "250/250 [==============================] - 0s 841us/step - loss: 0.3958 - accuracy: 0.8393\n",
      "Epoch 46/100\n",
      "250/250 [==============================] - 0s 840us/step - loss: 0.3958 - accuracy: 0.8391\n",
      "Epoch 47/100\n",
      "250/250 [==============================] - 0s 791us/step - loss: 0.3954 - accuracy: 0.8404\n",
      "Epoch 48/100\n",
      "250/250 [==============================] - 0s 935us/step - loss: 0.3953 - accuracy: 0.8403\n",
      "Epoch 49/100\n",
      "250/250 [==============================] - 0s 929us/step - loss: 0.3954 - accuracy: 0.8391\n",
      "Epoch 50/100\n",
      "250/250 [==============================] - 0s 950us/step - loss: 0.3948 - accuracy: 0.8403\n",
      "Epoch 51/100\n",
      "250/250 [==============================] - 0s 922us/step - loss: 0.3945 - accuracy: 0.8400\n",
      "Epoch 52/100\n",
      "250/250 [==============================] - 0s 871us/step - loss: 0.3947 - accuracy: 0.8396\n",
      "Epoch 53/100\n",
      "250/250 [==============================] - 0s 954us/step - loss: 0.3942 - accuracy: 0.8395\n",
      "Epoch 54/100\n",
      "250/250 [==============================] - 0s 971us/step - loss: 0.3940 - accuracy: 0.8397\n",
      "Epoch 55/100\n",
      "250/250 [==============================] - 0s 852us/step - loss: 0.3939 - accuracy: 0.8403\n",
      "Epoch 56/100\n",
      "250/250 [==============================] - 0s 934us/step - loss: 0.3936 - accuracy: 0.8401\n",
      "Epoch 57/100\n",
      "250/250 [==============================] - 0s 793us/step - loss: 0.3938 - accuracy: 0.8399\n",
      "Epoch 58/100\n",
      "250/250 [==============================] - 0s 868us/step - loss: 0.3934 - accuracy: 0.8403\n",
      "Epoch 59/100\n",
      "250/250 [==============================] - 0s 844us/step - loss: 0.3930 - accuracy: 0.8407\n",
      "Epoch 60/100\n",
      "250/250 [==============================] - 0s 867us/step - loss: 0.3929 - accuracy: 0.8415\n",
      "Epoch 61/100\n",
      "250/250 [==============================] - 0s 905us/step - loss: 0.3923 - accuracy: 0.8407\n",
      "Epoch 62/100\n",
      "250/250 [==============================] - 0s 955us/step - loss: 0.3923 - accuracy: 0.8416\n",
      "Epoch 63/100\n",
      "250/250 [==============================] - 0s 967us/step - loss: 0.3923 - accuracy: 0.8425\n",
      "Epoch 64/100\n",
      "250/250 [==============================] - 0s 840us/step - loss: 0.3922 - accuracy: 0.8407\n",
      "Epoch 65/100\n",
      "250/250 [==============================] - 0s 803us/step - loss: 0.3917 - accuracy: 0.8414\n",
      "Epoch 66/100\n",
      "250/250 [==============================] - 0s 843us/step - loss: 0.3917 - accuracy: 0.8424\n",
      "Epoch 67/100\n",
      "250/250 [==============================] - 0s 786us/step - loss: 0.3914 - accuracy: 0.8406\n",
      "Epoch 68/100\n",
      "250/250 [==============================] - 0s 844us/step - loss: 0.3915 - accuracy: 0.8416\n",
      "Epoch 69/100\n",
      "250/250 [==============================] - 0s 813us/step - loss: 0.3916 - accuracy: 0.8415\n",
      "Epoch 70/100\n",
      "250/250 [==============================] - 0s 794us/step - loss: 0.3909 - accuracy: 0.8416\n",
      "Epoch 71/100\n",
      "250/250 [==============================] - 0s 801us/step - loss: 0.3909 - accuracy: 0.8410\n",
      "Epoch 72/100\n",
      "250/250 [==============================] - 0s 847us/step - loss: 0.3905 - accuracy: 0.8422\n",
      "Epoch 73/100\n",
      "250/250 [==============================] - 0s 795us/step - loss: 0.3904 - accuracy: 0.8429\n",
      "Epoch 74/100\n",
      "250/250 [==============================] - 0s 783us/step - loss: 0.3905 - accuracy: 0.8422\n",
      "Epoch 75/100\n",
      "250/250 [==============================] - 0s 802us/step - loss: 0.3896 - accuracy: 0.8422\n",
      "Epoch 76/100\n",
      "250/250 [==============================] - 0s 796us/step - loss: 0.3895 - accuracy: 0.8416\n",
      "Epoch 77/100\n",
      "250/250 [==============================] - 0s 851us/step - loss: 0.3894 - accuracy: 0.8428\n",
      "Epoch 78/100\n",
      "250/250 [==============================] - 0s 798us/step - loss: 0.3895 - accuracy: 0.8407\n",
      "Epoch 79/100\n",
      "250/250 [==============================] - 0s 797us/step - loss: 0.3887 - accuracy: 0.8404\n",
      "Epoch 80/100\n",
      "250/250 [==============================] - 0s 810us/step - loss: 0.3891 - accuracy: 0.8396\n",
      "Epoch 81/100\n",
      "250/250 [==============================] - 0s 873us/step - loss: 0.3885 - accuracy: 0.8429\n",
      "Epoch 82/100\n",
      "250/250 [==============================] - 0s 1ms/step - loss: 0.3883 - accuracy: 0.8425\n",
      "Epoch 83/100\n",
      "250/250 [==============================] - 0s 855us/step - loss: 0.3881 - accuracy: 0.8406\n",
      "Epoch 84/100\n",
      "250/250 [==============================] - 0s 781us/step - loss: 0.3878 - accuracy: 0.8420\n",
      "Epoch 85/100\n",
      "250/250 [==============================] - 0s 795us/step - loss: 0.3878 - accuracy: 0.8424\n",
      "Epoch 86/100\n",
      "250/250 [==============================] - 0s 798us/step - loss: 0.3870 - accuracy: 0.8428\n",
      "Epoch 87/100\n",
      "250/250 [==============================] - 0s 936us/step - loss: 0.3867 - accuracy: 0.8430\n",
      "Epoch 88/100\n",
      "250/250 [==============================] - 0s 802us/step - loss: 0.3860 - accuracy: 0.8420\n",
      "Epoch 89/100\n",
      "250/250 [==============================] - 0s 795us/step - loss: 0.3863 - accuracy: 0.8450\n",
      "Epoch 90/100\n",
      "250/250 [==============================] - 0s 940us/step - loss: 0.3856 - accuracy: 0.8438\n",
      "Epoch 91/100\n",
      "250/250 [==============================] - 0s 896us/step - loss: 0.3851 - accuracy: 0.8440\n",
      "Epoch 92/100\n",
      "250/250 [==============================] - 0s 860us/step - loss: 0.3846 - accuracy: 0.8440\n",
      "Epoch 93/100\n",
      "250/250 [==============================] - 0s 841us/step - loss: 0.3838 - accuracy: 0.8449\n",
      "Epoch 94/100\n",
      "250/250 [==============================] - 0s 816us/step - loss: 0.3834 - accuracy: 0.8446\n",
      "Epoch 95/100\n",
      "250/250 [==============================] - 0s 769us/step - loss: 0.3820 - accuracy: 0.8455\n",
      "Epoch 96/100\n",
      "250/250 [==============================] - 0s 840us/step - loss: 0.3806 - accuracy: 0.8468\n",
      "Epoch 97/100\n",
      "250/250 [==============================] - 0s 849us/step - loss: 0.3782 - accuracy: 0.8481\n",
      "Epoch 98/100\n",
      "250/250 [==============================] - 0s 793us/step - loss: 0.3759 - accuracy: 0.8500\n",
      "Epoch 99/100\n",
      "250/250 [==============================] - 0s 929us/step - loss: 0.3735 - accuracy: 0.8490\n",
      "Epoch 100/100\n",
      "250/250 [==============================] - 0s 929us/step - loss: 0.3698 - accuracy: 0.8521\n"
     ]
    },
    {
     "data": {
      "text/plain": [
       "<tensorflow.python.keras.callbacks.History at 0x7f1b76ddefd0>"
      ]
     },
     "execution_count": 39,
     "metadata": {
      "tags": []
     },
     "output_type": "execute_result"
    }
   ],
   "source": [
    "ann.fit(X_train,y_train,batch_size=32,epochs=100)"
   ]
  },
  {
   "cell_type": "markdown",
   "metadata": {
    "colab_type": "text",
    "id": "tJj5k2MxZga3"
   },
   "source": [
    "## Part 4 - Making the predictions and evaluating the model"
   ]
  },
  {
   "cell_type": "markdown",
   "metadata": {
    "colab_type": "text",
    "id": "84QFoqGYeXHL"
   },
   "source": [
    "### Predicting the result of a single observation"
   ]
  },
  {
   "cell_type": "code",
   "execution_count": 40,
   "metadata": {
    "colab": {
     "base_uri": "https://localhost:8080/",
     "height": 35
    },
    "colab_type": "code",
    "id": "3fo5mO1Mt-rU",
    "outputId": "1a40e5d1-a1ea-47a2-9bf1-be4fb85fc479"
   },
   "outputs": [
    {
     "name": "stdout",
     "output_type": "stream",
     "text": [
      "[[False]]\n"
     ]
    }
   ],
   "source": [
    "print(ann.predict(sc.transform([[1, 0, 0, 600, 1, 40, 3, 60000, 2, 1, 1, 50000]])) > 0.5)"
   ]
  },
  {
   "cell_type": "markdown",
   "metadata": {
    "colab_type": "text",
    "id": "CGRo3eacgDdC"
   },
   "source": [
    
    "Use our ANN model to predict if the customer with the following informations will leave the bank: \n",
    "\n",
    "Geography: France\n",
    "\n",
    "Credit Score: 600\n",
    "\n",
    "Gender: Male\n",
    "\n",
    "Age: 40 years old\n",
    "\n",
    "Tenure: 3 years\n",
    "\n",
    "Balance: \\$ 60000\n",
    "\n",
    "Number of Products: 2\n",
    "\n",
    "Does this customer have a credit card? Yes\n",
    "\n",
    "Is this customer an Active Member: Yes\n",
    "\n",
    "Estimated Salary: \\$ 50000\n",
    "\n",
    "So, should we say goodbye to that customer?"
   ]
  },
  {
   "cell_type": "markdown",
   "metadata": {
    "colab_type": "text",
    "id": "ZhU1LTgPg-kH"
   },
   "source": [
    "**Solution**"
   ]
  },
  {
   "cell_type": "markdown",
   "metadata": {
    "colab_type": "text",
    "id": "wGjx94g2n7OV"
   },
   "source": [
    "Therefore, our ANN model predicts that this customer stays in the bank!\n",
    "\n",
    "**Important note 1:** Notice that the values of the features were all input in a double pair of square brackets. That's because the \"predict\" method always expects a 2D array as the format of its inputs. And putting our values into a double pair of square brackets makes the input exactly a 2D array.\n",
    "\n",
    "**Important note 2:** Notice also that the \"France\" country was not input as a string in the last column but as \"1, 0, 0\" in the first three columns. That's because of course the predict method expects the one-hot-encoded values of the state, and as we see in the first row of the matrix of features X, \"France\" was encoded as \"1, 0, 0\". And be careful to include these values in the first three columns, because the dummy variables are always created in the first columns."
   ]
  },
  {
   "cell_type": "markdown",
   "metadata": {
    "colab_type": "text",
    "id": "u7yx47jPZt11"
   },
   "source": [
    "### Predicting the Test set results"
   ]
  },
  {
   "cell_type": "code",
   "execution_count": 41,
   "metadata": {
    "colab": {
     "base_uri": "https://localhost:8080/",
     "height": 146
    },
    "colab_type": "code",
    "id": "8x-gNR7Zv5hu",
    "outputId": "d0229ac8-43b3-4dde-b99e-1757a7a93829"
   },
   "outputs": [
    {
     "name": "stdout",
     "output_type": "stream",
     "text": [
      "[[0 0]\n",
      " [0 0]\n",
      " [0 0]\n",
      " ...\n",
      " [0 0]\n",
      " [0 0]\n",
      " [0 0]]\n"
     ]
    }
   ],
   "source": [
    "y_pred = ann.predict(X_test)\n",
    "y_pred = (y_pred > 0.5)\n",
    "print(np.concatenate((y_pred.reshape(len(y_pred),1), y_test.reshape(len(y_test),1)),1))"
   ]
  },
  {
   "cell_type": "markdown",
   "metadata": {
    "colab_type": "text",
    "id": "o0oyfLWoaEGw"
   },
   "source": [
    "### Making the Confusion Matrix"
   ]
  },
  {
   "cell_type": "code",
   "execution_count": 42,
   "metadata": {
    "colab": {
     "base_uri": "https://localhost:8080/",
     "height": 72
    },
    "colab_type": "code",
    "id": "N-ZDPXyxv_6C",
    "outputId": "5f19d7e6-3837-4169-f1da-700066d04549"
   },
   "outputs": [
    {
     "name": "stdout",
     "output_type": "stream",
     "text": [
      "[[1541   44]\n",
      " [ 256  159]]\n"
     ]
    },
    {
     "data": {
      "text/plain": [
       "0.85"
      ]
     },
     "execution_count": 42,
     "metadata": {
      "tags": []
     },
     "output_type": "execute_result"
    }
   ],
   "source": [
    "from sklearn.metrics import confusion_matrix, accuracy_score\n",
    "cm = confusion_matrix(y_test, y_pred)\n",
    "print(cm)\n",
    "accuracy_score(y_test, y_pred)"
   ]
  }
 ],
 "metadata": {
  "colab": {
   "collapsed_sections": [],
   "name": "ANN.ipynb",
   "provenance": []
  },
  "kernelspec": {
   "display_name": "Python 3",
   "language": "python",
   "name": "python3"
  },
  "language_info": {
   "codemirror_mode": {
    "name": "ipython",
    "version": 3
   },
   "file_extension": ".py",
   "mimetype": "text/x-python",
   "name": "python",
   "nbconvert_exporter": "python",
   "pygments_lexer": "ipython3",
   "version": "3.7.3"
  }
 },
 "nbformat": 4,
 "nbformat_minor": 1
}
